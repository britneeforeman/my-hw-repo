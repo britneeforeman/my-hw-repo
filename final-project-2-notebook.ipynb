{
 "cells": [
  {
   "cell_type": "markdown",
   "metadata": {},
   "source": [
    "# Project Design Writeup"
   ]
  },
  {
   "cell_type": "markdown",
   "metadata": {},
   "source": [
    "### Project Problem and Hypothesis"
   ]
  },
  {
   "cell_type": "markdown",
   "metadata": {},
   "source": [
    "* What's the project about? What problem are you solving?"
   ]
  },
  {
   "cell_type": "markdown",
   "metadata": {},
   "source": [
    "* **My project is about using Songkick data to determine the increase in streaming popularity for an artist. This gives music companies a considerable insight int terms of how much touring it takes to move the needle in audience engagement for on demand listening.**"
   ]
  },
  {
   "cell_type": "markdown",
   "metadata": {},
   "source": [
    "* Where does this seem to reside as a machine learning problem? Are you predicting some continuous number, or predicting a binary value?"
   ]
  },
  {
   "cell_type": "markdown",
   "metadata": {},
   "source": [
    "* **This is mostly a logistic regression machine problem since it is unlikely linear. I'm predicting a continuous number**"
   ]
  },
  {
   "cell_type": "markdown",
   "metadata": {},
   "source": [
    "* What kind of impact do you think it could have?"
   ]
  },
  {
   "cell_type": "markdown",
   "metadata": {},
   "source": [
    "* **For the music industry anything to mitigate risk and cause informed decisions are high impact. Having a range of how many shows booked will actually create an impact on streaming, which generates revenue, will be super impactful for my team and industry.**"
   ]
  },
  {
   "cell_type": "markdown",
   "metadata": {},
   "source": [
    "* What do you think will have the most impact in predicting the value you are interested in solving for?"
   ]
  },
  {
   "cell_type": "markdown",
   "metadata": {},
   "source": [
    "* **Number of shows coming up**"
   ]
  },
  {
   "cell_type": "markdown",
   "metadata": {},
   "source": [
    "### Datasets"
   ]
  },
  {
   "cell_type": "markdown",
   "metadata": {},
   "source": [
    "* Description of data set available, at the field level (see table)"
   ]
  },
  {
   "cell_type": "raw",
   "metadata": {},
   "source": [
    "songtrust.artist_name\n",
    "songkick.popularity_ranking\n",
    "Count(songkick.related_upcoming_events)\n",
    "spotify.track_name\n",
    "spotify.popularity"
   ]
  },
  {
   "cell_type": "markdown",
   "metadata": {},
   "source": [
    "* If from an API, include a sample return (this is usually included in API documentation!) (if doing this in markdown, use the javacription code tag)"
   ]
  },
  {
   "cell_type": "raw",
   "metadata": {},
   "source": [
    "<?xml version=\"1.0\" encoding=\"utf-8\"?>\n",
    "<tracks xmlns:opensearch=\"http://a9.com/-/spec/opensearch/1.1/\" xmlns=\"http://www.spotify.com/ns/music/1\">\n",
    "  <opensearch:Query role=\"request\" startPage=\"1\" searchTerms=\"foo\"/>\n",
    "  <opensearch:totalResults>768</opensearch:totalResults>\n",
    "  <opensearch:startIndex>0</opensearch:startIndex>\n",
    "  <opensearch:itemsPerPage>100</opensearch:itemsPerPage>\n",
    "  <track href=\"spotify:track:3ZsjgLDSvusBgxGWrTAVto\">\n",
    "    <name>The Pretender</name>\n",
    "    <artist href=\"spotify:artist:7jy3rLJdDQY21OgRLCZ9sD\">\n",
    "      <name>Foo Fighters</name>\n",
    "    </artist>\n",
    "    <id type=\"isrc\">USRW30700007</id>\n",
    "    <id type=\"isrc\">USRW30700007</id>\n",
    "    <album href=\"spotify:album:2ovXUTjkBkNlgAU7DTIxX9\">\n",
    "      <name>Echoes, Silence, Patience & Grace</name>\n",
    "      <released>2007</released>\n",
    "      <availability>\n",
    "        <territories>AD AE AF AG AI AL AM AN AO AQ AR AT AU AZ BA BB BD BE BF BG BH BI BJ BM BN BO BR BS BT BW BY BZ CD CF CG CH CI CK CL CM CO CR CU CV CY CZ DE DJ DK DM DO DZ EC EE EG EH ER ES ET FI FJ FK FM FO FR GA GB GD GE GF GH GI GL GM GN GP GQ GR GT GU GW GY HN HR HT HU IE IL IO IQ IR IS IT JM JO KE KG KH KI KM KN KP KW KY KZ LA LB LC LI LK LR LS LT LU LV LY MA MC MD MG MH MK ML MM MN MO MP MQ MR MS MT MU MV MW MX MZ NA NC NE NG NI NL NO NP NR NU NZ OM PA PE PF PG PK PL PM PN PR PS PT PW PY QA RE RO RU RW SA SB SC SD SE SH SI SK SL SM SN SO SR ST SV SY SZ TC TD TF TG TJ TK TL TM TN TO TR TT TV TZ UA UG UY UZ VA VC VE VG VN VU WF WS YE YT ZA ZM ZW</territories>\n",
    "      </availability>\n",
    "    </album>\n",
    "    <track-number>1</track-number>\n",
    "    <length>269.373000</length>\n",
    "    <popularity>0.79251</popularity>\n",
    "  </track>\n",
    "  ...\n",
    "</tracks>"
   ]
  },
  {
   "cell_type": "markdown",
   "metadata": {},
   "source": [
    "### Domain knowledge"
   ]
  },
  {
   "cell_type": "markdown",
   "metadata": {},
   "source": [
    "* What experience do you already have around this area?"
   ]
  },
  {
   "cell_type": "markdown",
   "metadata": {},
   "source": [
    "* **I'm fairly well versed in the music space and how social data plays a part in engagement and audience size, and realize those could be confounding factors in this study.**"
   ]
  },
  {
   "cell_type": "markdown",
   "metadata": {},
   "source": [
    "* Does it relate or help inform the project in any way?"
   ]
  },
  {
   "cell_type": "markdown",
   "metadata": {},
   "source": [
    "* **It informs the project in that there is no possible association of** causation. **It just identifies on more factor that could inform music popularity, and it's possible weight in a larger algorithm.** "
   ]
  },
  {
   "cell_type": "markdown",
   "metadata": {},
   "source": [
    "* What other research efforts exist?"
   ]
  },
  {
   "cell_type": "markdown",
   "metadata": {},
   "source": [
    "* **We have an internal API key for Spotify to track just popularity, but nothing that affects that. There is also Next Big Sound which meausres how social metrics affects streaming**"
   ]
  },
  {
   "cell_type": "markdown",
   "metadata": {},
   "source": [
    "### Project Concerns"
   ]
  },
  {
   "cell_type": "markdown",
   "metadata": {},
   "source": [
    "* What questions do you have about your project? What are you not sure you quite yet understand? (The more honest you are about this, the easier your instructors can help)."
   ]
  },
  {
   "cell_type": "markdown",
   "metadata": {},
   "source": [
    "* **Is this the simplest model for this problem? Have we made it as least complex as possible? Is there something obvious that I'm missing in terms of what data should be used?**"
   ]
  },
  {
   "cell_type": "markdown",
   "metadata": {},
   "source": [
    "* What are the assumptions and caveats to the problem?"
   ]
  },
  {
   "cell_type": "markdown",
   "metadata": {},
   "source": [
    "* **First assumption, is that third party data is relatively clean and not riddled with data confidence issues. The second is that the population of artists that is pulled from our proprietary data set is in both the Spotify data set and SongKick data set. Caveat is that this isn't an exhaustive set in terms of predictive values and can be iterated on later in terms of scope and size.**"
   ]
  },
  {
   "cell_type": "markdown",
   "metadata": {},
   "source": [
    "* What are the risks to the project?"
   ]
  },
  {
   "cell_type": "markdown",
   "metadata": {},
   "source": [
    "* **There is a risk that there is low correlation between the proposed input and output. Also, out of context this could be seen as definitive, when there are also many other collnear factors that could affecting popularity at the same time.**"
   ]
  },
  {
   "cell_type": "markdown",
   "metadata": {},
   "source": [
    "### Outcomes"
   ]
  },
  {
   "cell_type": "markdown",
   "metadata": {},
   "source": [
    "* What do you expect the output to look like?"
   ]
  },
  {
   "cell_type": "markdown",
   "metadata": {},
   "source": [
    "* **The more shows booked, the higher the popularity grows exponentially**"
   ]
  },
  {
   "cell_type": "markdown",
   "metadata": {},
   "source": [
    "* What does your target audience expect the output to look like?"
   ]
  },
  {
   "cell_type": "markdown",
   "metadata": {},
   "source": [
    "* **Sadly a low bar since not a lot of data is applied to questions, but being able to plug in a number for upcoming shows, and having a range of how it will affect streaming activity will be helpful**"
   ]
  },
  {
   "cell_type": "markdown",
   "metadata": {},
   "source": [
    "* What gain do you expect from your most important feature on its own?"
   ]
  },
  {
   "cell_type": "markdown",
   "metadata": {},
   "source": [
    "* **Which artists have enough social capital to book multiple shows**"
   ]
  },
  {
   "cell_type": "markdown",
   "metadata": {},
   "source": [
    "* How complicated does your model have to be?"
   ]
  },
  {
   "cell_type": "markdown",
   "metadata": {},
   "source": [
    "* **Given that this is the first foray into machine learning probably on the less complicated side**"
   ]
  },
  {
   "cell_type": "markdown",
   "metadata": {},
   "source": [
    "* How successful does your project have to be in order to be considered a \"success\"?"
   ]
  },
  {
   "cell_type": "markdown",
   "metadata": {},
   "source": [
    "* **75-80% confidence would be a success**"
   ]
  },
  {
   "cell_type": "markdown",
   "metadata": {},
   "source": [
    "* What will you do if the project is a bust (this happens! but it shouldn't here)?"
   ]
  },
  {
   "cell_type": "markdown",
   "metadata": {},
   "source": [
    "* **Use the zillow City Time Series Data on Kaggle to predict where is the best place to buy property**"
   ]
  }
 ],
 "metadata": {
  "kernelspec": {
   "display_name": "Python 2",
   "language": "python",
   "name": "python2"
  },
  "language_info": {
   "codemirror_mode": {
    "name": "ipython",
    "version": 2
   },
   "file_extension": ".py",
   "mimetype": "text/x-python",
   "name": "python",
   "nbconvert_exporter": "python",
   "pygments_lexer": "ipython2",
   "version": "2.7.13"
  }
 },
 "nbformat": 4,
 "nbformat_minor": 2
}
